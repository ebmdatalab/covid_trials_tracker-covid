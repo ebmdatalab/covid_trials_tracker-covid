{
 "cells": [
  {
   "cell_type": "markdown",
   "metadata": {},
   "source": [
    "# Data cleaning and handling"
   ]
  },
  {
   "cell_type": "code",
   "execution_count": 56,
   "metadata": {},
   "outputs": [],
   "source": [
    "#ICTRP Search: \"covid-19\" or \"novel coronavirus\" or \"2019-ncov\" or \"covid19\" or \"sars-cov-2\"\n",
    "import xmltodict\n",
    "import pandas as pd\n",
    "import numpy as np\n",
    "from datetime import date\n",
    "import re\n",
    "import unicodedata\n",
    "from collections import Counter\n",
    "\n",
    "#POINT THIS TO THE UPDATED XML - deprecated as ICTRP is down.\n",
    "\n",
    "#with open('ICTRP-Results_18Mar2020.xml', 'rb') as f:\n",
    "#    xml = xmltodict.parse(f, dict_constructor=dict)\n",
    "\n",
    "#df = pd.DataFrame(xml['Trials_downloaded_from_ICTRP']['Trial'])\n",
    "\n",
    "#This now takes the CSV posted by the ICTRP as an input from here: https://www.who.int/ictrp/en/\n",
    "\n",
    "df = pd.read_excel('this_weeks_data/COVID19-1528-trials_22Apr2020.xlsx', dtype={'Phase': str})\n",
    "\n",
    "#UPDATE THESE WITH EACH RUN\n",
    "prior_extract_date = date(2020,4,15)\n",
    "this_extract_date = date(2020,4,22)\n",
    "\n",
    "def fix_dates(x):\n",
    "    if isinstance(x, str):\n",
    "        return x\n",
    "    else:\n",
    "        return x.date()"
   ]
  },
  {
   "cell_type": "code",
   "execution_count": 57,
   "metadata": {},
   "outputs": [],
   "source": [
    "df['Date enrollement'] = pd.to_datetime(df['Date enrollement'], errors='coerce')"
   ]
  },
  {
   "cell_type": "code",
   "execution_count": 58,
   "metadata": {},
   "outputs": [],
   "source": [
    "#Extracting target enrollment\n",
    "size = df['Target size'].tolist()\n",
    "\n",
    "extracted_size = []\n",
    "for s in size:\n",
    "    if not s or isinstance(s,float):\n",
    "        extracted_size.append('Not Available')\n",
    "    elif isinstance(s,int):\n",
    "        extracted_size.append(s)\n",
    "    elif isinstance(s,str):\n",
    "        digits = []\n",
    "        nums = re.findall(r':\\d{1,10};',s)\n",
    "        for n in nums:\n",
    "            digits.append(int(n.replace(':','').replace(';','')))\n",
    "        extracted_size.append(sum(digits))\n",
    "    else:\n",
    "        print(type(s))\n",
    "\n",
    "df['target_enrollment'] = extracted_size\n",
    "\n",
    "#Creating retrospective registration\n",
    "df['retrospective_registration'] = np.where(df['Date registration'] > df['Date enrollement'], True, False)\n",
    "df['Date enrollement'] = df['Date enrollement'].fillna('No Date Available').apply(fix_dates)"
   ]
  },
  {
   "cell_type": "code",
   "execution_count": 59,
   "metadata": {},
   "outputs": [
    {
     "name": "stdout",
     "output_type": "stream",
     "text": [
      "The ICTRP shows 1528 trials as of 2020-04-22\n"
     ]
    }
   ],
   "source": [
    "#Taking only what we need right now\n",
    "\n",
    "cols = ['TrialID', 'Source Register', 'Date registration', 'Date enrollement', 'retrospective_registration', \n",
    "        'Primary sponsor', 'Recruitment Status', 'Phase', 'Study type', 'Countries', 'Public title', \n",
    "        'Intervention', 'target_enrollment', 'web address', 'results yes no', 'results url link', \n",
    "        'Last Refreshed on']\n",
    "\n",
    "df_cond = df[cols].reset_index(drop=True)\n",
    "\n",
    "#renaming columns to match old format so I don't have to change them throughout\n",
    "df_cond.columns = ['TrialID', 'Source_Register', 'Date_registration', 'Date_enrollement', \n",
    "                   'retrospective_registration', 'Primary_sponsor', 'Recruitment_Status', 'Phase', 'Study_type', \n",
    "                   'Countries', 'Public_title', 'Intervention', 'target_enrollment', 'web_address', \n",
    "                   'has_results', 'results_url_link', 'Last_Refreshed_on']\n",
    "\n",
    "print(f'The ICTRP shows {len(df_cond)} trials as of {this_extract_date}')"
   ]
  },
  {
   "cell_type": "code",
   "execution_count": 60,
   "metadata": {},
   "outputs": [],
   "source": [
    "#POINT THIS TO LAST WEEK'S PROCESSED DATA\n",
    "last_weeks_trials = pd.read_csv('last_weeks_data/trial_list_2020-04-15.csv')"
   ]
  },
  {
   "cell_type": "code",
   "execution_count": 61,
   "metadata": {},
   "outputs": [],
   "source": [
    "#Joining in the 'first_seen' field\n",
    "df_cond = df_cond.merge(last_weeks_trials[['trialid', 'first_seen']], left_on = 'TrialID', right_on = 'trialid', \n",
    "                        how='left').drop('trialid', axis=1)\n",
    "\n",
    "#Adding the `first_seen` field to new trials\n",
    "df_cond['first_seen'] = pd.to_datetime(df_cond['first_seen'].fillna(this_extract_date))"
   ]
  },
  {
   "cell_type": "code",
   "execution_count": 62,
   "metadata": {},
   "outputs": [
    {
     "data": {
      "text/plain": [
       "ChiCTR                             617\n",
       "ClinicalTrials.gov                 614\n",
       "IRCT                               111\n",
       "EU Clinical Trials Register         72\n",
       "ANZCTR                              25\n",
       "German Clinical Trials Register     24\n",
       "ISRCTN                              16\n",
       "Netherlands Trial Register          13\n",
       "JPRN                                13\n",
       "CTRI                                 7\n",
       "TCTR                                 6\n",
       "REBEC                                5\n",
       "PACTR                                3\n",
       "REPEC                                1\n",
       "RPCEC                                1\n",
       "LBCTR                                1\n",
       "Name: Source_Register, dtype: int64"
      ]
     },
     "execution_count": 62,
     "metadata": {},
     "output_type": "execute_result"
    }
   ],
   "source": [
    "#Check for which registries we are dealing with:\n",
    "df_cond.Source_Register.value_counts()"
   ]
  },
  {
   "cell_type": "markdown",
   "metadata": {},
   "source": [
    "When working with data straight from XML we need to do some tedious tidying up of dates because of different formats. They do not parse correctly by default in Pandas. They are standardized, however, in the ICTRP spreadsheet so I have removed this code for now. It is archived in old commits to the GitHub repo for future refrence if needed."
   ]
  },
  {
   "cell_type": "code",
   "execution_count": 63,
   "metadata": {},
   "outputs": [
    {
     "name": "stdout",
     "output_type": "stream",
     "text": [
      "Excluded 9 trials from before 2020\n",
      "1520 trials remain\n"
     ]
    }
   ],
   "source": [
    "#lets get rid of trials from before 2020 for now\n",
    "\n",
    "pre_2020 = len(df_cond[df_cond['Date_registration'] < pd.Timestamp(2020,1,1)])\n",
    "\n",
    "print(f'Excluded {pre_2020} trials from before 2020')\n",
    "\n",
    "df_cond_rec = df_cond[df_cond['Date_registration'] >= pd.Timestamp(2020,1,1)].reset_index(drop=True)\n",
    "\n",
    "print(f'{len(df_cond_rec)} trials remain')"
   ]
  },
  {
   "cell_type": "markdown",
   "metadata": {},
   "source": [
    "This code removes trials that indicate that they never started. This is done on the Chinese registry through specific language in the Title. Trials from ClinicalTrials.gov are indicated by the `Withdrawn` trial status. \n",
    "\n",
    "This will be expanded moving forward to account for the unique terminology used by other registries as necessary moving forward."
   ]
  },
  {
   "cell_type": "code",
   "execution_count": 64,
   "metadata": {},
   "outputs": [
    {
     "name": "stdout",
     "output_type": "stream",
     "text": [
      "Excluded 44 cancelled trials with no enrollment\n",
      "Excluded 5 non-COVID trials screened through manual review\n",
      "1473 trials remain\n"
     ]
    }
   ],
   "source": [
    "#Removing cancelled/withdrawn trials for what registries we have to date\n",
    "\n",
    "cancelled_trials = len(df_cond_rec[(df_cond_rec['Public_title'].str.contains('Cancelled')) | \n",
    "                                   (df_cond_rec['Public_title'].str.contains('Retracted due to')) | \n",
    "                                   (df_cond_rec['Recruitment_Status'] == \"Withdrawn\")])\n",
    "\n",
    "print(f'Excluded {cancelled_trials} cancelled trials with no enrollment')\n",
    "\n",
    "#Now lets get rid of trials we know don't belong from manual review, reason catalogued below\n",
    "#NCT04226157 Non-COVID trial delayed because of COVID and put this in the title\n",
    "#NCT04246242 This trial registration doesn't exist anymore\n",
    "#NCT04337320 is monitoring of complications from a device in the context of COVID but has nothing\n",
    "#to do with COVID monitoring or treatment.\n",
    "#NCT03680274 simply allows inclusion of COVID pts but has nothing to do with COVID\n",
    "#JPRN-UMIN000040188 is a systematic review, not an individual study\n",
    "\n",
    "exclude = ['NCT04226157', 'NCT04246242', 'NCT04337320', 'NCT03680274', 'JPRN-UMIN000040188']\n",
    "\n",
    "print(f'Excluded {len(exclude)} non-COVID trials screened through manual review')\n",
    "\n",
    "df_cond_nc = df_cond_rec[~((df_cond_rec['Public_title'].str.contains('Cancelled')) | \n",
    "                           (df_cond_rec['Public_title'].str.contains('Retracted due to'))) & \n",
    "                         ~(df_cond_rec['Recruitment_Status'] == \"Withdrawn\") &\n",
    "                         ~(df_cond_rec['TrialID'].isin(exclude))].reset_index(drop=True)\n",
    "\n",
    "print(f'{len(df_cond_nc)} trials remain')"
   ]
  },
  {
   "cell_type": "markdown",
   "metadata": {},
   "source": [
    "As a general rule, simply for quality and ease of use, we will default to a ClinicalTrials.gov record over another type of registration in instances of cross-registration. The ICTRP alerts users to trials with known cross-registrations in the \"Bridge\" field of their dataset and only lists 1 registration per trial (but does not tell you the cross-registered trial IDs). We can manually check and catalogue these. However we will want to replace some of these when the \"Parent\" registry is the EUCTR entry. The first step is to remove the EUCTR entries, then we will add the ClinicalTrials.gov (or another) version of the registry entry  back into the dataset when we append known trials. We will then join in a new column listing the known cross-registered trial ids."
   ]
  },
  {
   "cell_type": "code",
   "execution_count": 65,
   "metadata": {},
   "outputs": [
    {
     "name": "stdout",
     "output_type": "stream",
     "text": [
      "16 known cross registrations will be replaced\n"
     ]
    }
   ],
   "source": [
    "c_reg = pd.read_excel('manual_data.xlsx', sheet_name = 'cross registrations')\n",
    "replace_ids = c_reg.id_to_replace.tolist()\n",
    "\n",
    "replaced = len(df_cond_nc[df_cond_nc.TrialID.isin(replace_ids)])\n",
    "print(f'{replaced} known cross registrations will be replaced')\n",
    "\n",
    "df_cond_nc = df_cond_nc[~(df_cond_nc.TrialID.isin(replace_ids))].reset_index(drop=True)"
   ]
  },
  {
   "cell_type": "code",
   "execution_count": 66,
   "metadata": {},
   "outputs": [],
   "source": [
    "#Function for checking changes\n",
    "\n",
    "def trial_diffs(new=True):\n",
    "    df = df_cond_nc.merge(last_weeks_trials['trialid'], left_on = 'TrialID', right_on = 'trialid', how='outer', indicator=True)\n",
    "    if new:\n",
    "        new = df[(df['_merge'] == 'left_only')]\n",
    "        return new['TrialID'].tolist()\n",
    "    else:\n",
    "        dropped = df[(df['_merge'] == 'right_only')]\n",
    "        return dropped['trialid'].tolist()"
   ]
  },
  {
   "cell_type": "code",
   "execution_count": 67,
   "metadata": {},
   "outputs": [
    {
     "name": "stdout",
     "output_type": "stream",
     "text": [
      "There are approximately 383 new trials\n",
      "The following trials were removed since the last time and were manually checked to confirm:\n",
      "['ChiCTR2000030300']\n"
     ]
    }
   ],
   "source": [
    "additions = pd.read_excel('manual_data.xlsx', sheet_name = 'additional_trials')\n",
    "\n",
    "print(f'There are approximately {len(trial_diffs(new=True))} new trials')\n",
    "\n",
    "added = additions.TrialID.tolist()\n",
    "\n",
    "print(f'The following trials were removed since the last time and were manually checked to confirm:')\n",
    "print(list(set(trial_diffs(new=False)) - set(added) - set(replace_ids)))"
   ]
  },
  {
   "cell_type": "markdown",
   "metadata": {},
   "source": [
    "Now we just need to take a quick look at trials that came and went since the last update. We can add in any additional trials that we know about that are not accounted for in the ICTRP database."
   ]
  },
  {
   "cell_type": "code",
   "execution_count": 68,
   "metadata": {},
   "outputs": [
    {
     "name": "stdout",
     "output_type": "stream",
     "text": [
      "An additional 18 known trials, or preferred cross registrations were added to the data\n",
      "['NCT04299152', 'NCT04307459', 'NCT04290780', 'NCT04303299', 'NCT04321369', 'NCT04323527', 'NCT04333914', 'NCT04328285', 'NCT04341207', 'NCT04339712', 'NCT04341038', 'NCT04335786', 'NCT04345289', 'NCT04359953', 'NCT04334850', 'NCT04344288', 'NCT04350580', 'NCT04344041']\n",
      "The final dataset is 1475 trials\n"
     ]
    }
   ],
   "source": [
    "#These are trials we know about that are not showing up in the ICTRP data pull or are re-added as cross-registrations\n",
    "\n",
    "print(f'An additional {len(additions)} known trials, or preferred cross registrations were added to the data')\n",
    "\n",
    "print(added)\n",
    "\n",
    "df_cond_all = df_cond_nc.append(additions)\n",
    "\n",
    "print(f'The final dataset is {len(df_cond_all)} trials')"
   ]
  },
  {
   "cell_type": "code",
   "execution_count": 69,
   "metadata": {},
   "outputs": [],
   "source": [
    "#finally, add cross-registration field\n",
    "\n",
    "df_cond_all = df_cond_nc.merge(c_reg[['trial_id_keep', 'additional_ids']].drop_duplicates(), \n",
    "                              left_on='TrialID', \n",
    "                              right_on='trial_id_keep', \n",
    "                              how='left').drop('trial_id_keep', axis=1).rename(columns=\n",
    "                                                                               {'additional_ids':\n",
    "                                                                                'cross_registrations'}\n",
    "                                                                              ).reset_index(drop=True)\n",
    "\n",
    "df_cond_all['cross_registrations'] = df_cond_all['cross_registrations'].fillna('None')"
   ]
  },
  {
   "cell_type": "markdown",
   "metadata": {},
   "source": [
    "Normalisation and data cleaning of all fields. This will be expanded each update as more trials get added and more registries start to add trials with their own idiosyncratic data categories. "
   ]
  },
  {
   "cell_type": "code",
   "execution_count": 70,
   "metadata": {},
   "outputs": [],
   "source": [
    "#A small function to help quickly check the contents of various columns\n",
    "\n",
    "def check_fields(field):\n",
    "    return df_cond_all[field].unique()\n",
    "\n",
    "#Check fields for new unique values that require normalisation\n",
    "#for x in check_fields('Countries'):\n",
    "#    print(x)"
   ]
  },
  {
   "cell_type": "code",
   "execution_count": 71,
   "metadata": {},
   "outputs": [],
   "source": [
    "#Data cleaning various fields. \n",
    "#One important thing we have to do is make sure there are no nulls or else the data won't properly load onto the website\n",
    "\n",
    "#semi-colons in the intervention field mess with CSV\n",
    "df_cond_all['Intervention'] = df_cond_all['Intervention'].str.replace(';', '')\n",
    "\n",
    "#Study Type\n",
    "obv_replace = ['Observational [Patient Registry]', 'observational']\n",
    "int_replace = ['interventional', 'Interventional clinical trial of medicinal product', 'Treatment', \n",
    "               'INTERVENTIONAL', 'Intervention']\n",
    "hs_replace = ['Health services reaserch', 'Health Services reaserch', 'Health Services Research']\n",
    "\n",
    "df_cond_all['Study_type'] = df_cond_all['Study_type'].str.replace(' study', '')\n",
    "df_cond_all['Study_type'] = df_cond_all['Study_type'].replace(obv_replace, 'Observational')\n",
    "df_cond_all['Study_type'] = df_cond_all['Study_type'].replace(int_replace, 'Interventional')\n",
    "df_cond_all['Study_type'] = df_cond_all['Study_type'].replace('Epidemilogical research', 'Epidemiological research')\n",
    "df_cond_all['Study_type'] = df_cond_all['Study_type'].replace(hs_replace, 'Health services research')\n",
    "df_cond_all['Study_type'] = df_cond_all['Study_type'].replace('Others,meta-analysis etc', 'Other')\n",
    "\n",
    "#phase\n",
    "df_cond_all['Phase'] = df_cond_all['Phase'].fillna('Not Applicable')\n",
    "phase_fixes = {'0':'Not Applicable', '1':'Phase 1', '2':'Phase 2', '3':'Phase 3', '4':'Phase 4', \n",
    "               '1-2':'Phase 1/Phase 2', 'Retrospective study':'Not Applicable', \n",
    "               'Not applicable':'Not Applicable', 'Early Phase 1':'Phase 1',\n",
    "               'New Treatment Measure Clinical Study':'Not Applicable', 'Not selected': 'Not Applicable',\n",
    "               '2020-02-01 00:00:00':'Phase 1/Phase 2', 'Phase II/III':'Phase 2/Phase 3',\n",
    "               '2020-03-02 00:00:00':'Phase 2/Phase 3', 'Phase III':'Phase 3',\n",
    "               'Phase I/II':'Phase 1/Phase 2', 'Phase 0': 'Not Applicable',\n",
    "               'Phase 1 / Phase 2': 'Phase 1/Phase 2', 'I': 'Phase 1', 'II':'Phase 2', \n",
    "               'II-III':'Phase 2/Phase 3', 'IV': 'Phase 4', 'Phase-3': 'Phase 3', \n",
    "               'Diagnostic New Technique Clincal Study': 'Not Applicable',\n",
    "               'Human pharmacology (Phase I): no\\nTherapeutic exploratory (Phase II): yes\\nTherapeutic confirmatory - (Phase III): no\\nTherapeutic use (Phase IV): no\\n': 'Phase 2',\n",
    "               'Human pharmacology (Phase I): no\\nTherapeutic exploratory (Phase II): no\\nTherapeutic confirmatory - (Phase III): yes\\nTherapeutic use (Phase IV): no\\n': 'Phase 3',\n",
    "               'Human pharmacology (Phase I): no\\nTherapeutic exploratory (Phase II): no\\nTherapeutic confirmatory - (Phase III): no\\nTherapeutic use (Phase IV): yes\\n': 'Phase 4',\n",
    "               'Human pharmacology (Phase I): no\\nTherapeutic exploratory (Phase II): no\\nTherapeutic confirmatory - (Phase III): yes\\nTherapeutic use (Phase IV): yes\\n': 'Phase 3/Phase 4',\n",
    "               'Human pharmacology (Phase I): no\\nTherapeutic exploratory (Phase II): yes\\nTherapeutic confirmatory - (Phase III): yes\\nTherapeutic use (Phase IV): no\\n': 'Phase 2/Phase 3'\n",
    "              }\n",
    "df_cond_all['Phase'] = df_cond_all['Phase'].replace(phase_fixes)\n",
    "\n",
    "#Fixing Observational studies incorrectly given a Phase in ICTRP data\n",
    "m = ((df_cond_all.Phase.str.contains('Phase')) & (df_cond_all.Study_type == 'Observational'))\n",
    "df_cond_all['Phase'] = df_cond_all.Phase.where(~m, 'Not Applicable')\n",
    "\n",
    "#Recruitment Status\n",
    "df_cond_all['Recruitment_Status'] = df_cond_all['Recruitment_Status'].replace('Not recruiting', 'Not Recruiting')\n",
    "df_cond_all['Recruitment_Status'] = df_cond_all['Recruitment_Status'].fillna('No Status Given')\n",
    "\n",
    "#Get rid of messy accents\n",
    "\n",
    "def norm_names(x):\n",
    "    normed = unicodedata.normalize('NFKD', str(x)).encode('ASCII', 'ignore').decode()\n",
    "    return normed \n",
    "\n",
    "df_cond_all['Primary_sponsor'] = df_cond_all.Primary_sponsor.apply(norm_names)\n",
    "df_cond_all['Primary_sponsor'] = df_cond_all['Primary_sponsor'].replace('NA', 'No Sponsor Name Given')\n",
    "df_cond_all['Primary_sponsor'] = df_cond_all['Primary_sponsor'].replace('nan', 'No Sponsor Name Given')"
   ]
  },
  {
   "cell_type": "code",
   "execution_count": 72,
   "metadata": {},
   "outputs": [],
   "source": [
    "#Countries\n",
    "df_cond_all['Countries'] = df_cond_all['Countries'].fillna('No Country Given').replace('??', 'No Country Given')\n",
    "\n",
    "china_corr = ['Chian', 'China?', 'Chinese', 'Wuhan', 'Chinaese', 'china', 'Taiwan, Province Of China', \n",
    "              \"The People's Republic of China\"]\n",
    "\n",
    "country_values = df_cond_all['Countries'].tolist()\n",
    "\n",
    "new_list = []\n",
    "\n",
    "for c in country_values:\n",
    "    country_list = []\n",
    "    if isinstance(c, float):\n",
    "        country_list.append('No Sponsor Name Given')\n",
    "    elif c == 'No Sponsor Name Given':\n",
    "        country_list.append('No Sponsor Name Given')\n",
    "    elif c in china_corr:\n",
    "        country_list.append('China')\n",
    "    elif c in ['Iran (Islamic Republic of)', 'Iran, Islamic Republic of']:\n",
    "        country_list.append('Iran')\n",
    "    elif c in ['Viet nam', 'Viet Nam']:\n",
    "        country_list.append('Vietnam')\n",
    "    elif c in ['Korea, Republic of', 'Korea, Republic Of', 'KOREA'] :\n",
    "        country_list.append('South Korea')\n",
    "    elif c in ['USA', 'United States of America']:\n",
    "        country_list.append('United States')\n",
    "    elif c == 'Japan,Asia(except Japan),Australia,Europe':\n",
    "        country_list = ['Japan', 'Australia', 'Asia', 'Europe']\n",
    "    elif c == 'The Netherlands':\n",
    "        country_list.append('Netherlands')\n",
    "    elif c == 'England':\n",
    "        country_list.append('United Kingdom')\n",
    "    elif c == 'Japan,North America':\n",
    "        country_list = ['Japan', 'North America']\n",
    "    elif ';' in c:\n",
    "        c_list = c.split(';')\n",
    "        unique_values = list(set(c_list))\n",
    "        for v in unique_values:\n",
    "            if v in china_corr:\n",
    "                country_list.append('China')\n",
    "            elif v in ['Iran (Islamic Republic of)', 'Iran, Islamic Republic of']:\n",
    "                country_list.append('Iran')\n",
    "            elif v in ['Korea, Republic of', 'Korea, Republic Of', 'KOREA']:\n",
    "                country_list.append('South Korea')\n",
    "            elif v in ['Viet nam', 'Viet Nam']:\n",
    "                country_list.append('Vietnam')\n",
    "            elif v in ['USA', 'United States of America']:\n",
    "                country_list.append('United States')\n",
    "            elif v == 'The Netherlands':\n",
    "                country_list.append('Netherlands')\n",
    "            elif v == 'England':\n",
    "                country_list.append('United Kingdom')\n",
    "            else:\n",
    "                country_list.append(v)\n",
    "    else:\n",
    "        country_list.append(c)\n",
    "    new_list.append(', '.join(country_list))\n",
    "\n",
    "df_cond_all['Countries'] = new_list"
   ]
  },
  {
   "cell_type": "markdown",
   "metadata": {},
   "source": [
    "Last space for manual intervention. This will include manual normalisation of new names, any updates to the normalisation schedule from the last update, and updating manually-coded intervention type data."
   ]
  },
  {
   "cell_type": "code",
   "execution_count": 73,
   "metadata": {},
   "outputs": [
    {
     "name": "stdout",
     "output_type": "stream",
     "text": [
      "All sponsor names normalized\n"
     ]
    }
   ],
   "source": [
    "#Normalizing sponsor names\n",
    "#Run this cell, updating the spon_norm csv you are loading after manual adjusting\n",
    "#until you get the 'All sponsor names normalized' to print\n",
    "\n",
    "spon_norm = pd.read_excel('manual_data.xlsx', sheet_name = 'sponsor')\n",
    "\n",
    "df_cond_norm = df_cond_all.merge(spon_norm, left_on = 'Primary_sponsor', right_on ='unique_spon_names', how='left')\n",
    "df_cond_norm = df_cond_norm.drop('unique_spon_names', axis=1)\n",
    "\n",
    "new_unique_spon_names = (df_cond_norm[df_cond_norm['normed_spon_names'].isna()][['Primary_sponsor', 'TrialID']]\n",
    "                        .groupby('Primary_sponsor').count())\n",
    "\n",
    "if len(new_unique_spon_names) > 0:\n",
    "    new_unique_spon_names.to_csv('to_norm.csv')\n",
    "    print('Update the normalisation schedule and rerun')\n",
    "else:\n",
    "    print('All sponsor names normalized')"
   ]
  },
  {
   "cell_type": "code",
   "execution_count": 74,
   "metadata": {},
   "outputs": [
    {
     "name": "stdout",
     "output_type": "stream",
     "text": [
      "All intervention types matched\n"
     ]
    }
   ],
   "source": [
    "#Integrating intervention type data\n",
    "#Once again, run to bring in the old int-type data, islolate the new ones, update, and rerun until\n",
    "#producing the all-clear message\n",
    "\n",
    "int_type = pd.read_excel('manual_data.xlsx', sheet_name = 'intervention')\n",
    "df_cond_int = df_cond_norm.merge(int_type[['trial_id', 'study_category',\n",
    "                                           'intervention', 'intervention_list']], \n",
    "                                 left_on = 'TrialID', right_on = 'trial_id', how='left')\n",
    "\n",
    "df_cond_int = df_cond_int.drop('trial_id', axis=1)\n",
    "\n",
    "new_int_trials = df_cond_int[(df_cond_int['study_category'].isna()) | (df_cond_int['intervention'].isna())]\n",
    "\n",
    "if len(new_int_trials) > 0:\n",
    "    new_int_trials[['TrialID', 'Public_title', 'Intervention', 'study_category', \n",
    "                    'intervention', 'intervention_list']].to_csv('int_to_assess.csv')\n",
    "    print('Update the intervention type assessments and rerun')\n",
    "else:\n",
    "    print('All intervention types matched')\n",
    "    df_cond_int = df_cond_int.drop('Intervention', axis=1).reset_index(drop=True)"
   ]
  },
  {
   "cell_type": "code",
   "execution_count": 75,
   "metadata": {},
   "outputs": [],
   "source": [
    "#Can use this cell to output counts of values from columns\n",
    "\n",
    "treatments = df_cond_int[df_cond_int.study_category == 'Drug']['study_category'].tolist()\n",
    "countries = df_cond_int.Countries.to_list()\n",
    "\n",
    "def var_counts(var_list, split_char, lower=False):\n",
    "    final_list = []\n",
    "    for v in var_list:\n",
    "        t_list = v.split(split_char)\n",
    "        for l in t_list:\n",
    "            if lower:\n",
    "                final_list.append(l.lower().strip())\n",
    "            else:\n",
    "                final_list.append(l.strip())\n",
    "    return Counter(final_list)"
   ]
  },
  {
   "cell_type": "code",
   "execution_count": 76,
   "metadata": {},
   "outputs": [
    {
     "name": "stdout",
     "output_type": "stream",
     "text": [
      "[]\n"
     ]
    }
   ],
   "source": [
    "comp_dates = pd.read_excel('manual_data.xlsx', sheet_name = 'Completion Dates')\n",
    "df_comp_dates = df_cond_int.merge(comp_dates, \n",
    "                                  left_on='TrialID', right_on='trialid', \n",
    "                                  how='left', indicator=True).drop('trialid', axis=1)\n",
    "\n",
    "print(df_comp_dates[df_comp_dates['_merge'] == 'left_only'].TrialID.to_list())\n",
    "\n",
    "df_comp_dates = df_comp_dates.drop('_merge', axis=1).reset_index(drop=True)\n",
    "    \n",
    "df_comp_dates['primary_completion_date'] = (pd.to_datetime(df_comp_dates['primary_completion_date'], \n",
    "                                                          errors='coerce', \n",
    "                                                          format='%Y-%m-%d')\n",
    "                                            .fillna('Not Available').apply(fix_dates))\n",
    "\n",
    "df_comp_dates['full_completion_date'] = (pd.to_datetime(df_comp_dates['full_completion_date'], \n",
    "                                                          errors='coerce', \n",
    "                                                          format='%Y-%m-%d')\n",
    "                                            .fillna('Not Available').apply(fix_dates))"
   ]
  },
  {
   "cell_type": "code",
   "execution_count": 77,
   "metadata": {},
   "outputs": [
    {
     "name": "stdout",
     "output_type": "stream",
     "text": [
      "There are no results to check\n"
     ]
    }
   ],
   "source": [
    "#check for any results on ICTRP\n",
    "ictrp_results = df_comp_dates[(df_comp_dates.has_results.notnull()) | (df_comp_dates.has_results.notnull())]\n",
    "\n",
    "if len(ictrp_results) > 0:\n",
    "    print(f'There are {len(ictrp_results)} results to check')\n",
    "else:\n",
    "    print('There are no results to check')\n",
    "\n",
    "#If results cross-check with results already collected in 'manual_data' excel file and add any new trial results."
   ]
  },
  {
   "cell_type": "code",
   "execution_count": 78,
   "metadata": {},
   "outputs": [],
   "source": [
    "results = pd.read_excel('manual_data.xlsx', sheet_name = 'Results')\n",
    "df_results = df_comp_dates.merge(results, \n",
    "                                 left_on='TrialID', \n",
    "                                 right_on='trialid', \n",
    "                                 how='left').drop('trialid', axis=1)\n",
    "\n",
    "df_results['results_link'] = df_results['results_link'].fillna('No Results')\n",
    "df_results['results_type'] = df_results['results_type'].fillna('No Results')\n",
    "\n",
    "df_results['results_publication_date'] = (pd.to_datetime(df_results['results_publication_date'], \n",
    "                                                          errors='coerce', \n",
    "                                                          format='%Y-%m-%d')\n",
    "                                            .fillna('No Results').apply(fix_dates))"
   ]
  },
  {
   "cell_type": "code",
   "execution_count": 79,
   "metadata": {},
   "outputs": [],
   "source": [
    "#Final organising\n",
    "\n",
    "col_names = []\n",
    "\n",
    "for col in list(df_results.columns):\n",
    "    col_names.append(col.lower())\n",
    "    \n",
    "df_results.columns = col_names\n",
    "\n",
    "reorder = ['trialid', 'source_register', 'date_registration', 'date_enrollement', 'retrospective_registration', \n",
    "           'normed_spon_names', 'recruitment_status', 'phase', 'study_type', 'countries', 'public_title', \n",
    "           'study_category', 'intervention', 'target_enrollment', 'primary_completion_date', \n",
    "           'full_completion_date', 'web_address', 'results_type', 'results_publication_date', 'results_link', \n",
    "           'last_refreshed_on', 'first_seen', 'cross_registrations']\n",
    "\n",
    "df_final = df_results[reorder].reset_index(drop=True).reset_index()"
   ]
  },
  {
   "cell_type": "code",
   "execution_count": 80,
   "metadata": {},
   "outputs": [
    {
     "data": {
      "text/html": [
       "<div>\n",
       "<style scoped>\n",
       "    .dataframe tbody tr th:only-of-type {\n",
       "        vertical-align: middle;\n",
       "    }\n",
       "\n",
       "    .dataframe tbody tr th {\n",
       "        vertical-align: top;\n",
       "    }\n",
       "\n",
       "    .dataframe thead th {\n",
       "        text-align: right;\n",
       "    }\n",
       "</style>\n",
       "<table border=\"1\" class=\"dataframe\">\n",
       "  <thead>\n",
       "    <tr style=\"text-align: right;\">\n",
       "      <th></th>\n",
       "      <th>index</th>\n",
       "      <th>trialid</th>\n",
       "      <th>source_register</th>\n",
       "      <th>date_registration</th>\n",
       "      <th>date_enrollement</th>\n",
       "      <th>retrospective_registration</th>\n",
       "      <th>normed_spon_names</th>\n",
       "      <th>recruitment_status</th>\n",
       "      <th>phase</th>\n",
       "      <th>study_type</th>\n",
       "      <th>...</th>\n",
       "      <th>target_enrollment</th>\n",
       "      <th>primary_completion_date</th>\n",
       "      <th>full_completion_date</th>\n",
       "      <th>web_address</th>\n",
       "      <th>results_type</th>\n",
       "      <th>results_publication_date</th>\n",
       "      <th>results_link</th>\n",
       "      <th>last_refreshed_on</th>\n",
       "      <th>first_seen</th>\n",
       "      <th>cross_registrations</th>\n",
       "    </tr>\n",
       "  </thead>\n",
       "  <tbody>\n",
       "  </tbody>\n",
       "</table>\n",
       "<p>0 rows × 24 columns</p>\n",
       "</div>"
      ],
      "text/plain": [
       "Empty DataFrame\n",
       "Columns: [index, trialid, source_register, date_registration, date_enrollement, retrospective_registration, normed_spon_names, recruitment_status, phase, study_type, countries, public_title, study_category, intervention, target_enrollment, primary_completion_date, full_completion_date, web_address, results_type, results_publication_date, results_link, last_refreshed_on, first_seen, cross_registrations]\n",
       "Index: []\n",
       "\n",
       "[0 rows x 24 columns]"
      ]
     },
     "execution_count": 80,
     "metadata": {},
     "output_type": "execute_result"
    }
   ],
   "source": [
    "#Checking for any null values\n",
    "df_final[df_final.isna().any(axis=1)]"
   ]
  },
  {
   "cell_type": "code",
   "execution_count": 81,
   "metadata": {},
   "outputs": [
    {
     "data": {
      "text/html": [
       "<div>\n",
       "<style scoped>\n",
       "    .dataframe tbody tr th:only-of-type {\n",
       "        vertical-align: middle;\n",
       "    }\n",
       "\n",
       "    .dataframe tbody tr th {\n",
       "        vertical-align: top;\n",
       "    }\n",
       "\n",
       "    .dataframe thead th {\n",
       "        text-align: right;\n",
       "    }\n",
       "</style>\n",
       "<table border=\"1\" class=\"dataframe\">\n",
       "  <thead>\n",
       "    <tr style=\"text-align: right;\">\n",
       "      <th></th>\n",
       "      <th>index</th>\n",
       "      <th>trialid</th>\n",
       "      <th>source_register</th>\n",
       "      <th>date_registration</th>\n",
       "      <th>date_enrollement</th>\n",
       "      <th>retrospective_registration</th>\n",
       "      <th>normed_spon_names</th>\n",
       "      <th>recruitment_status</th>\n",
       "      <th>phase</th>\n",
       "      <th>study_type</th>\n",
       "      <th>...</th>\n",
       "      <th>target_enrollment</th>\n",
       "      <th>primary_completion_date</th>\n",
       "      <th>full_completion_date</th>\n",
       "      <th>web_address</th>\n",
       "      <th>results_type</th>\n",
       "      <th>results_publication_date</th>\n",
       "      <th>results_link</th>\n",
       "      <th>last_refreshed_on</th>\n",
       "      <th>first_seen</th>\n",
       "      <th>cross_registrations</th>\n",
       "    </tr>\n",
       "  </thead>\n",
       "  <tbody>\n",
       "    <tr>\n",
       "      <th>0</th>\n",
       "      <td>0</td>\n",
       "      <td>ChiCTR2000029953</td>\n",
       "      <td>ChiCTR</td>\n",
       "      <td>2020-02-17</td>\n",
       "      <td>2020-02-01</td>\n",
       "      <td>True</td>\n",
       "      <td>Zhongnan Hospital of Wuhan University</td>\n",
       "      <td>Not Recruiting</td>\n",
       "      <td>Not Applicable</td>\n",
       "      <td>Observational</td>\n",
       "      <td>...</td>\n",
       "      <td>400</td>\n",
       "      <td>Not Available</td>\n",
       "      <td>2021-05-01</td>\n",
       "      <td>http://www.chictr.org.cn/showproj.aspx?proj=49217</td>\n",
       "      <td>No Results</td>\n",
       "      <td>No Results</td>\n",
       "      <td>No Results</td>\n",
       "      <td>2020-02-17</td>\n",
       "      <td>2020-08-03</td>\n",
       "      <td>None</td>\n",
       "    </tr>\n",
       "    <tr>\n",
       "      <th>1</th>\n",
       "      <td>1</td>\n",
       "      <td>ChiCTR2000029935</td>\n",
       "      <td>ChiCTR</td>\n",
       "      <td>2020-02-16</td>\n",
       "      <td>2020-02-06</td>\n",
       "      <td>True</td>\n",
       "      <td>Hwa Mei Hospital, University of Chinese Academ...</td>\n",
       "      <td>Recruiting</td>\n",
       "      <td>Not Applicable</td>\n",
       "      <td>Interventional</td>\n",
       "      <td>...</td>\n",
       "      <td>100</td>\n",
       "      <td>Not Available</td>\n",
       "      <td>2021-02-06</td>\n",
       "      <td>http://www.chictr.org.cn/showproj.aspx?proj=49607</td>\n",
       "      <td>No Results</td>\n",
       "      <td>No Results</td>\n",
       "      <td>No Results</td>\n",
       "      <td>2020-02-17</td>\n",
       "      <td>2020-08-03</td>\n",
       "      <td>None</td>\n",
       "    </tr>\n",
       "    <tr>\n",
       "      <th>2</th>\n",
       "      <td>2</td>\n",
       "      <td>ChiCTR2000029850</td>\n",
       "      <td>ChiCTR</td>\n",
       "      <td>2020-02-15</td>\n",
       "      <td>2020-02-15</td>\n",
       "      <td>False</td>\n",
       "      <td>The First Affiliated Hospital of Zhejiang Univ...</td>\n",
       "      <td>Recruiting</td>\n",
       "      <td>Not Applicable</td>\n",
       "      <td>Interventional</td>\n",
       "      <td>...</td>\n",
       "      <td>20</td>\n",
       "      <td>Not Available</td>\n",
       "      <td>2022-02-15</td>\n",
       "      <td>http://www.chictr.org.cn/showproj.aspx?proj=49533</td>\n",
       "      <td>No Results</td>\n",
       "      <td>No Results</td>\n",
       "      <td>No Results</td>\n",
       "      <td>2020-02-17</td>\n",
       "      <td>2020-08-03</td>\n",
       "      <td>None</td>\n",
       "    </tr>\n",
       "    <tr>\n",
       "      <th>3</th>\n",
       "      <td>3</td>\n",
       "      <td>ChiCTR2000029814</td>\n",
       "      <td>ChiCTR</td>\n",
       "      <td>2020-02-14</td>\n",
       "      <td>2020-02-14</td>\n",
       "      <td>False</td>\n",
       "      <td>Children's Hospital of Fudan University</td>\n",
       "      <td>Recruiting</td>\n",
       "      <td>Not Applicable</td>\n",
       "      <td>Interventional</td>\n",
       "      <td>...</td>\n",
       "      <td>30</td>\n",
       "      <td>Not Available</td>\n",
       "      <td>2020-12-31</td>\n",
       "      <td>http://www.chictr.org.cn/showproj.aspx?proj=49387</td>\n",
       "      <td>No Results</td>\n",
       "      <td>No Results</td>\n",
       "      <td>No Results</td>\n",
       "      <td>2020-02-17</td>\n",
       "      <td>2020-08-03</td>\n",
       "      <td>None</td>\n",
       "    </tr>\n",
       "    <tr>\n",
       "      <th>4</th>\n",
       "      <td>4</td>\n",
       "      <td>ChiCTR2000029805</td>\n",
       "      <td>ChiCTR</td>\n",
       "      <td>2020-02-14</td>\n",
       "      <td>2020-02-12</td>\n",
       "      <td>True</td>\n",
       "      <td>Wuhan Jinyintan Hospital (Wuhan Infectious Dis...</td>\n",
       "      <td>Recruiting</td>\n",
       "      <td>Not Applicable</td>\n",
       "      <td>Observational</td>\n",
       "      <td>...</td>\n",
       "      <td>100</td>\n",
       "      <td>Not Available</td>\n",
       "      <td>2021-01-31</td>\n",
       "      <td>http://www.chictr.org.cn/showproj.aspx?proj=49188</td>\n",
       "      <td>No Results</td>\n",
       "      <td>No Results</td>\n",
       "      <td>No Results</td>\n",
       "      <td>2020-02-17</td>\n",
       "      <td>2020-08-03</td>\n",
       "      <td>None</td>\n",
       "    </tr>\n",
       "  </tbody>\n",
       "</table>\n",
       "<p>5 rows × 24 columns</p>\n",
       "</div>"
      ],
      "text/plain": [
       "   index           trialid source_register date_registration date_enrollement  \\\n",
       "0      0  ChiCTR2000029953          ChiCTR        2020-02-17       2020-02-01   \n",
       "1      1  ChiCTR2000029935          ChiCTR        2020-02-16       2020-02-06   \n",
       "2      2  ChiCTR2000029850          ChiCTR        2020-02-15       2020-02-15   \n",
       "3      3  ChiCTR2000029814          ChiCTR        2020-02-14       2020-02-14   \n",
       "4      4  ChiCTR2000029805          ChiCTR        2020-02-14       2020-02-12   \n",
       "\n",
       "   retrospective_registration  \\\n",
       "0                        True   \n",
       "1                        True   \n",
       "2                       False   \n",
       "3                       False   \n",
       "4                        True   \n",
       "\n",
       "                                   normed_spon_names recruitment_status  \\\n",
       "0              Zhongnan Hospital of Wuhan University     Not Recruiting   \n",
       "1  Hwa Mei Hospital, University of Chinese Academ...         Recruiting   \n",
       "2  The First Affiliated Hospital of Zhejiang Univ...         Recruiting   \n",
       "3            Children's Hospital of Fudan University         Recruiting   \n",
       "4  Wuhan Jinyintan Hospital (Wuhan Infectious Dis...         Recruiting   \n",
       "\n",
       "            phase      study_type  ... target_enrollment  \\\n",
       "0  Not Applicable   Observational  ...               400   \n",
       "1  Not Applicable  Interventional  ...               100   \n",
       "2  Not Applicable  Interventional  ...                20   \n",
       "3  Not Applicable  Interventional  ...                30   \n",
       "4  Not Applicable   Observational  ...               100   \n",
       "\n",
       "  primary_completion_date full_completion_date  \\\n",
       "0           Not Available           2021-05-01   \n",
       "1           Not Available           2021-02-06   \n",
       "2           Not Available           2022-02-15   \n",
       "3           Not Available           2020-12-31   \n",
       "4           Not Available           2021-01-31   \n",
       "\n",
       "                                         web_address results_type  \\\n",
       "0  http://www.chictr.org.cn/showproj.aspx?proj=49217   No Results   \n",
       "1  http://www.chictr.org.cn/showproj.aspx?proj=49607   No Results   \n",
       "2  http://www.chictr.org.cn/showproj.aspx?proj=49533   No Results   \n",
       "3  http://www.chictr.org.cn/showproj.aspx?proj=49387   No Results   \n",
       "4  http://www.chictr.org.cn/showproj.aspx?proj=49188   No Results   \n",
       "\n",
       "  results_publication_date results_link last_refreshed_on first_seen  \\\n",
       "0               No Results   No Results        2020-02-17 2020-08-03   \n",
       "1               No Results   No Results        2020-02-17 2020-08-03   \n",
       "2               No Results   No Results        2020-02-17 2020-08-03   \n",
       "3               No Results   No Results        2020-02-17 2020-08-03   \n",
       "4               No Results   No Results        2020-02-17 2020-08-03   \n",
       "\n",
       "  cross_registrations  \n",
       "0                None  \n",
       "1                None  \n",
       "2                None  \n",
       "3                None  \n",
       "4                None  \n",
       "\n",
       "[5 rows x 24 columns]"
      ]
     },
     "execution_count": 81,
     "metadata": {},
     "output_type": "execute_result"
    }
   ],
   "source": [
    "#Quick look at the data\n",
    "df_final.head()"
   ]
  },
  {
   "cell_type": "code",
   "execution_count": 82,
   "metadata": {},
   "outputs": [],
   "source": [
    "#Export final dataset\n",
    "df_final.to_csv(f'processed_data_sets/trial_list_{this_extract_date}.csv', index=False)\n",
    "\n",
    "df_final.to_csv(f'tableau_data/current_data.csv', index=False)"
   ]
  },
  {
   "cell_type": "code",
   "execution_count": 83,
   "metadata": {},
   "outputs": [
    {
     "name": "stdout",
     "output_type": "stream",
     "text": [
      "There are 35 trials with results\n"
     ]
    }
   ],
   "source": [
    "just_results = df_final[df_final.results_type != 'No Results']\n",
    "\n",
    "results_total = len(just_results)\n",
    "\n",
    "print(f'There are {results_total} trials with results')"
   ]
  },
  {
   "cell_type": "code",
   "execution_count": null,
   "metadata": {
    "lines_to_next_cell": 0
   },
   "outputs": [],
   "source": [
    "#Export json for website\n",
    "import json\n",
    "with open(\"website_data/trials_latest.json\", \"w\") as f:\n",
    "    json.dump({\"data\": df_final.astype(str).values.tolist()}, f, indent=2)\n",
    "\n",
    "with open(\"website_data/results_latest.json\", \"w\") as f:\n",
    "    json.dump({\"data\": just_results.astype(str).values.tolist()}, f, indent=2)    "
   ]
  },
  {
   "cell_type": "code",
   "execution_count": null,
   "metadata": {
    "lines_to_next_cell": 2
   },
   "outputs": [],
   "source": []
  },
  {
   "cell_type": "markdown",
   "metadata": {},
   "source": [
    "# Overall Trend in Registered Trials Graph"
   ]
  },
  {
   "cell_type": "code",
   "execution_count": null,
   "metadata": {
    "lines_to_next_cell": 2
   },
   "outputs": [],
   "source": [
    "just_reg = df_final[['trialid', 'date_registration']].reset_index(drop=True)\n",
    "#just_reg = mar18[['trialid', 'date_registration']].reset_index(drop=True)\n",
    "#just_reg['date_registration'] = pd.to_datetime(just_reg['date_registration'], format='%d/%m/%Y')\n",
    "\n",
    "#catch old registrations that were expanded to include COVID, we can get rid of these for now\n",
    "just_reg = just_reg[just_reg['date_registration'] >= pd.Timestamp(2020,1,1)].reset_index(drop=True)"
   ]
  },
  {
   "cell_type": "code",
   "execution_count": null,
   "metadata": {},
   "outputs": [],
   "source": [
    "just_reg.index = just_reg['date_registration']\n",
    "\n",
    "\n",
    "grouped = just_reg.resample('W').count()\n",
    "cumsum = grouped.cumsum()"
   ]
  },
  {
   "cell_type": "code",
   "execution_count": null,
   "metadata": {
    "lines_to_next_cell": 0
   },
   "outputs": [],
   "source": [
    "import matplotlib.pyplot as plt\n",
    "\n",
    "labels = []\n",
    "\n",
    "for x in list(grouped.index):\n",
    "    labels.append(str(x.date()))\n",
    "\n",
    "x_pos = [i for i, _ in enumerate(labels)]\n",
    "\n",
    "fig, ax = plt.subplots(figsize=(10,5), dpi = 300)\n",
    "\n",
    "l1 = plt.plot(x_pos, grouped['trialid'], marker = 'o')\n",
    "l2 = plt.plot(x_pos, cumsum['trialid'], marker = 'o')\n",
    "\n",
    "for i, j in zip(x_pos[1:], grouped['trialid'].tolist()[1:]):\n",
    "    ax.annotate(str(j), (i,j), xytext = (i-.1, j-50))\n",
    "\n",
    "for i, j in zip(x_pos, cumsum['trialid']):\n",
    "    ax.annotate(str(j), (i,j), xytext = (i-.2, j+25))\n",
    "    \n",
    "\n",
    "gr = grouped['trialid'].to_list()\n",
    "cs = cumsum['trialid'].to_list()\n",
    "\n",
    "plt.xticks(x_pos, labels, rotation=45, fontsize=8)\n",
    "plt.ylim(-50,1200)\n",
    "plt.xlabel('Week Ending Date')\n",
    "plt.ylabel('Registered Trials')\n",
    "plt.title('Registered COVID-19 Trials by Week on the ICTRP')\n",
    "plt.legend(('New Trials', 'Cumulative Trials'), loc=2)\n",
    "#plt.savefig(f'trial_count_{last_extract_date}.png')\n",
    "plt.show()"
   ]
  },
  {
   "cell_type": "code",
   "execution_count": null,
   "metadata": {
    "lines_to_next_cell": 2
   },
   "outputs": [],
   "source": [
    "import plotly.graph_objects as go\n",
    "\n",
    "labels = []\n",
    "\n",
    "for x in list(grouped.index):\n",
    "    labels.append(str(x.date()))\n",
    "\n",
    "fig = go.Figure()\n",
    "\n",
    "fig.add_trace(go.Scatter(x=labels[:-1], y=grouped['trialid'][:-1], fill=None, name='New Trials'))\n",
    "\n",
    "fig.add_trace(go.Scatter(x=labels[:-1], y=cumsum['trialid'][:-1], fill=None, name='Cumulative Trials'))\n",
    "\n",
    "fig.update_layout(title={'text': 'Registered COVID-19 Trials by Week', 'xanchor': 'center', 'x': 0.5}, \n",
    "                  xaxis_title='Week Ending Date',\n",
    "                  yaxis_title='Registered Trials',\n",
    "                  legend = dict(x=0, y=1, traceorder='normal', bgcolor='rgba(0,0,0,0)'))\n",
    "\n",
    "\n",
    "\n",
    "fig.show()\n",
    "fig.write_html(\"html_figures/registered trials.html\")"
   ]
  },
  {
   "cell_type": "code",
   "execution_count": null,
   "metadata": {},
   "outputs": [],
   "source": [
    "int_types = df_final.study_category.value_counts()\n",
    "int_types"
   ]
  },
  {
   "cell_type": "code",
   "execution_count": null,
   "metadata": {
    "lines_to_next_cell": 0
   },
   "outputs": [],
   "source": [
    "treatment_dict = dict(drugs = int_types['Drug'] + int_types['Drug (Chemoprophylaxis)'], \n",
    "                      atmp = int_types['ATMP'], \n",
    "                      clinical_char = int_types['Clinical Presentation'] + int_types['Diagnostics'] + int_types['Prognosis'],\n",
    "                      drug_other_combo = int_types['Drug (+ATMP +Other (renal))'] + int_types['Drug (+ATMP)'],\n",
    "                      supp = int_types['Supplement'],\n",
    "                      geno = int_types['Genomics'],\n",
    "                      th = int_types['Telehealth'],\n",
    "                      tm = int_types[[s.startswith('Traditional Medicine') for s in int_types.index]].sum(),\n",
    "                      other = (int_types[[s.startswith('Other') for s in int_types.index]].sum() \n",
    "                               + int_types['Health System'] + int_types['Procedure'])\n",
    "                     )\n",
    "\n",
    "fig = go.Figure(go.Bar(\n",
    "            x=list(treatment_dict.values()),\n",
    "            y=['Drugs', 'ATMP', 'Clinical Characteristics', 'Drug + Other Therapy', 'Supplement', 'Genomics', \n",
    "               'Telehealth', 'Traditional Medicine', 'Other'],\n",
    "            orientation='h'))\n",
    "\n",
    "fig.update_layout(title={'text': 'Intervention Type of Registered Trials', 'xanchor': 'center', 'x': 0.5}, \n",
    "                  xaxis_title='Number of Trials')\n",
    "\n",
    "fig.show()\n",
    "fig.write_html('html_figures/int_bar.html')"
   ]
  },
  {
   "cell_type": "code",
   "execution_count": null,
   "metadata": {},
   "outputs": [],
   "source": []
  },
  {
   "cell_type": "code",
   "execution_count": null,
   "metadata": {},
   "outputs": [],
   "source": []
  }
 ],
 "metadata": {
  "jupytext": {
   "cell_metadata_filter": "all",
   "notebook_metadata_filter": "all,-language_info",
   "text_representation": {
    "extension": ".py",
    "format_name": "light",
    "format_version": "1.5",
    "jupytext_version": "1.3.3"
   }
  },
  "kernelspec": {
   "display_name": "Python 3",
   "language": "python",
   "name": "python3"
  },
  "language_info": {
   "codemirror_mode": {
    "name": "ipython",
    "version": 3
   },
   "file_extension": ".py",
   "mimetype": "text/x-python",
   "name": "python",
   "nbconvert_exporter": "python",
   "pygments_lexer": "ipython3",
   "version": "3.8.1"
  }
 },
 "nbformat": 4,
 "nbformat_minor": 4
}
